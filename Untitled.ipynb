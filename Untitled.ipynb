{
 "cells": [
  {
   "cell_type": "code",
   "execution_count": 7,
   "id": "deffb99f-ef80-4d26-84e4-b6da8e0523d4",
   "metadata": {},
   "outputs": [],
   "source": [
    "import random"
   ]
  },
  {
   "cell_type": "code",
   "execution_count": 8,
   "id": "61f1f4a1-c49e-4dca-8c5f-c9646bfd7b34",
   "metadata": {},
   "outputs": [],
   "source": [
    "NUM_TOT   = 7481\n",
    "NUM_TEST  = 2251 # N\n",
    "NUM_TRAIN = 4930 # N\n",
    "NUM_VAL   = 4930 - NUM_TRAIN\n",
    "BATCH     = 8 # B\n",
    "SUBSET    = 300 # M\n",
    "ADDENDUM  = 300 # K"
   ]
  },
  {
   "cell_type": "code",
   "execution_count": 18,
   "id": "bd56d0b4-4700-47bc-86d8-e030bd89ed7b",
   "metadata": {},
   "outputs": [],
   "source": [
    "tot_indices = list(range(NUM_TOT)) \n",
    "random.shuffle(tot_indices)\n",
    "test_set = tot_indices[:NUM_TEST]\n",
    "train_set = tot_indices[NUM_TEST:]\n",
    "\n",
    "# Initialize a labeled dataset by randomly sampling K=ADDENDUM=300\n",
    "random.shuffle(train_set)\n",
    "\n",
    "labeled_set = train_set[:ADDENDUM]\n",
    "unlabeled_set = train_set[ADDENDUM:]"
   ]
  },
  {
   "cell_type": "code",
   "execution_count": 19,
   "id": "5ab90e2d-3255-4753-909c-bd5982fadb54",
   "metadata": {},
   "outputs": [
    {
     "data": {
      "text/plain": [
       "5230"
      ]
     },
     "execution_count": 19,
     "metadata": {},
     "output_type": "execute_result"
    }
   ],
   "source": [
    "len(tot_indices[NUM_TEST:])"
   ]
  },
  {
   "cell_type": "code",
   "execution_count": 20,
   "id": "1dab05fd-9e94-406f-931e-df9babbeb0b8",
   "metadata": {},
   "outputs": [
    {
     "data": {
      "text/plain": [
       "300"
      ]
     },
     "execution_count": 20,
     "metadata": {},
     "output_type": "execute_result"
    }
   ],
   "source": [
    "len(labeled_set)"
   ]
  },
  {
   "cell_type": "code",
   "execution_count": 21,
   "id": "e049e52f-fb9f-4178-b610-387fe287a175",
   "metadata": {},
   "outputs": [
    {
     "data": {
      "text/plain": [
       "4930"
      ]
     },
     "execution_count": 21,
     "metadata": {},
     "output_type": "execute_result"
    }
   ],
   "source": [
    "len(unlabeled_set)"
   ]
  },
  {
   "cell_type": "code",
   "execution_count": null,
   "id": "5849a05f-f072-4063-b37d-6184411ef954",
   "metadata": {},
   "outputs": [],
   "source": []
  }
 ],
 "metadata": {
  "kernelspec": {
   "display_name": "Python 3",
   "language": "python",
   "name": "python3"
  },
  "language_info": {
   "codemirror_mode": {
    "name": "ipython",
    "version": 3
   },
   "file_extension": ".py",
   "mimetype": "text/x-python",
   "name": "python",
   "nbconvert_exporter": "python",
   "pygments_lexer": "ipython3",
   "version": "3.8.8"
  }
 },
 "nbformat": 4,
 "nbformat_minor": 5
}
